{
 "cells": [
  {
   "cell_type": "code",
   "execution_count": 1,
   "id": "3c1c8a6e-2c43-4fb3-af6f-d9a09be3e266",
   "metadata": {},
   "outputs": [],
   "source": [
    "from pyspark.sql import SparkSession, Window\n",
    "import pyspark.sql.functions as f\n",
    "import datetime\n",
    "spark = SparkSession.builder.getOrCreate()\n",
    "\n",
    "df = spark.read \\\n",
    "          .format('csv') \\\n",
    "          .option('header','true') \\\n",
    "          .option('inferSchema','true') \\\n",
    "          .load('2019-12-02.csv')\n",
    "df.createOrReplaceGlobalTempView('all')\n",
    "\n",
    "test = spark.sql('''\n",
    "    SELECT * FROM global_temp.all\n",
    "    WHERE event_time = \"2019-12-02T08:13:48.000Z\"\n",
    "        AND product_id = \"100006912\"\n",
    "        AND user_session = \"ce828a4e-f41e-4edc-8298-67d5e1dfa1be\"\n",
    "    ''')"
   ]
  },
  {
   "cell_type": "code",
   "execution_count": 2,
   "id": "c6b65b4f-5cb6-4e2d-94ff-9b2f3a5cf735",
   "metadata": {},
   "outputs": [
    {
     "name": "stdout",
     "output_type": "stream",
     "text": [
      "+-------------------+----------+-------------------+----------+----------+-------------------+----------------------------+--------------+--------------+--------------+--------------+-----+------+-------------+---------+------------------------------------+\n",
      "|event_time         |date      |time               |event_type|product_id|category_id        |category_code               |sub_category_1|sub_category_2|sub_category_3|sub_category_4|brand|price |price_predict|user_id  |user_session                        |\n",
      "+-------------------+----------+-------------------+----------+----------+-------------------+----------------------------+--------------+--------------+--------------+--------------+-----+------+-------------+---------+------------------------------------+\n",
      "|2019-12-02 08:13:48|2019-12-02|2025-04-16 08:13:48|cart      |100006912 |2232732099754852875|appliances.personal.massager|appliances    |personal      |massager      |NULL          |kivi |198.18|198.18       |516224052|ce828a4e-f41e-4edc-8298-67d5e1dfa1be|\n",
      "|2019-12-02 08:13:48|2019-12-02|2025-04-16 08:13:48|view      |100006912 |2232732099754852875|appliances.personal.massager|appliances    |personal      |massager      |NULL          |kivi |198.18|198.18       |516224052|ce828a4e-f41e-4edc-8298-67d5e1dfa1be|\n",
      "+-------------------+----------+-------------------+----------+----------+-------------------+----------------------------+--------------+--------------+--------------+--------------+-----+------+-------------+---------+------------------------------------+\n",
      "\n"
     ]
    }
   ],
   "source": [
    "test.show(20, truncate=False)"
   ]
  },
  {
   "cell_type": "code",
   "execution_count": 3,
   "id": "28053c2d-d099-439f-b2f0-afe28d14a45d",
   "metadata": {},
   "outputs": [],
   "source": [
    "spark.stop()"
   ]
  },
  {
   "cell_type": "code",
   "execution_count": null,
   "id": "25fabe0b-484d-4b6b-bb70-adc903177db5",
   "metadata": {},
   "outputs": [],
   "source": []
  }
 ],
 "metadata": {
  "kernelspec": {
   "display_name": "Python 3 (ipykernel)",
   "language": "python",
   "name": "python3"
  },
  "language_info": {
   "codemirror_mode": {
    "name": "ipython",
    "version": 3
   },
   "file_extension": ".py",
   "mimetype": "text/x-python",
   "name": "python",
   "nbconvert_exporter": "python",
   "pygments_lexer": "ipython3",
   "version": "3.12.10"
  }
 },
 "nbformat": 4,
 "nbformat_minor": 5
}
